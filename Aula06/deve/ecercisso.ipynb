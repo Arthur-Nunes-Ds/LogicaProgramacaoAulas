{
 "cells": [
  {
   "cell_type": "markdown",
   "id": "10d37050",
   "metadata": {},
   "source": [
    "18. Peça dois números e verifique se são diferentes."
   ]
  },
  {
   "cell_type": "code",
   "execution_count": null,
   "id": "edf0cb6c",
   "metadata": {},
   "outputs": [],
   "source": [
    "from time import sleep as delay\n",
    "while True:\n",
    "    try:\n",
    "        n1 = int(input(\"Me fala o 1° número: \"))\n",
    "        n2 = int(input(\"Me fala o 2° número: \"))\n",
    "        delay(3.5)\n",
    "        #limpa o temnial pela sequência ANSI\n",
    "        print('\\033[H\\033[J')\n",
    "        print(\"Os núumeros não são iguais\" if not n1 == n2 else \"Os dois número são iguais\")\n",
    "        useri = input(\"Deseja ver com outro valor(s/n): \").strip().lower()\n",
    "        match useri:\n",
    "            case \"s\":\n",
    "                print('\\033[H\\033[J')\n",
    "                continue\n",
    "            case \"n\":\n",
    "                print(\"saindo\")\n",
    "                exit()\n",
    "            case _:\n",
    "                print(\"opção invalida\")\n",
    "        delay(3.5)\n",
    "        #limpa o temnial pela sequência ANSI\n",
    "        print('\\033[H\\033[J')\n",
    "    except ValueError:\n",
    "        print(\"Digite um número inteiro\")"
   ]
  },
  {
   "cell_type": "markdown",
   "id": "2a3363ee",
   "metadata": {},
   "source": [
    "19. Peça três números e verifique se o primeiro é maior que o segundo e menor que\n",
    "o terceiro.\n"
   ]
  },
  {
   "cell_type": "code",
   "execution_count": null,
   "id": "0c306d7e",
   "metadata": {},
   "outputs": [],
   "source": [
    "from time import sleep as delay\n",
    "while True:\n",
    "    try:\n",
    "        n1 = int(input(\"Me fala o 1° número: \"))\n",
    "        n2 = int(input(\"Me fala o 2° número: \"))\n",
    "        n3 = int(input(\"Me fala o 3° número: \"))\n",
    "        delay(3.5)\n",
    "        #limpa o temnial pela sequência ANSI\n",
    "        print('\\033[H\\033[J')\n",
    "        comparacao = n1 > n2 and n1 < n3\n",
    "        print(\"O primeiro é maior que o segundo e menor que o terceiro.\" \n",
    "              if comparacao else \"O primeiro não é maior que o segundo ou o não é menor que o terceiro\")\n",
    "        useri = input(\"Deseja ver com outro valor(s/n): \").strip().lower()\n",
    "        match useri:\n",
    "            case \"s\":\n",
    "                print('\\033[H\\033[J')\n",
    "                continue\n",
    "            case \"n\":\n",
    "                print(\"saindo\")\n",
    "                exit()\n",
    "            case _:\n",
    "                print(\"opção invalida\")\n",
    "        delay(3.5)\n",
    "        #limpa o temnial pela sequência ANSI\n",
    "        print('\\033[H\\033[J')\n",
    "    except ValueError:\n",
    "        print(\"Digite um número inteiro\")"
   ]
  },
  {
   "cell_type": "markdown",
   "id": "e7b95c18",
   "metadata": {},
   "source": [
    "20. Receba um valor em metros do usuário. Converta o valor para centímetros,\n",
    "milímetros e quilômetros. Exiba os resultados."
   ]
  },
  {
   "cell_type": "code",
   "execution_count": null,
   "id": "a99c334d",
   "metadata": {},
   "outputs": [],
   "source": [
    "from time import sleep as delay\n",
    "while True:\n",
    "    try:\n",
    "        m = float(input(\"Me fala o valor em m: \"))\n",
    "        km = m/1000\n",
    "        cm = m*100\n",
    "        mm = m*1000\n",
    "        print(f\"Metro = {m:.2f}m\",\n",
    "              f\"Metro -> Km : {km:.2f}km\",\n",
    "              f\"Metro -> cm : {cm:.2f}cm\",\n",
    "              f\"Metro -> mm : {mm}mm\", sep= \"\\n\")\n",
    "        useri = input(\"Deseja ver com outro valor(s/n): \").strip().lower()\n",
    "        match useri:\n",
    "            case \"s\":\n",
    "                print('\\033[H\\033[J')\n",
    "                continue\n",
    "            case \"n\":\n",
    "                print(\"saindo\")\n",
    "                exit()\n",
    "            case _:\n",
    "                print(\"opção invalida\")\n",
    "        delay(3.5)\n",
    "        #limpa o temnial pela sequência ANSI\n",
    "        print('\\033[H\\033[J')\n",
    "    except ValueError:\n",
    "        print(\"Digite um número inteiro\")"
   ]
  },
  {
   "cell_type": "markdown",
   "id": "1cbaf036",
   "metadata": {},
   "source": [
    "21. Peça uma quantidade de horas e exiba o valor correspondente em minutos."
   ]
  },
  {
   "cell_type": "code",
   "execution_count": null,
   "id": "7ec59ed2",
   "metadata": {},
   "outputs": [],
   "source": [
    "from time import sleep as delay\n",
    "while True:\n",
    "    try:\n",
    "        h = int(input(\"Me fala o valor em m: \"))\n",
    "        print(f\"De {h}H -> minutos : {h/60}\")\n",
    "        useri = input(\"Deseja ver com outro valor(s/n): \").strip().lower()\n",
    "        match useri:\n",
    "            case \"s\":\n",
    "                print('\\033[H\\033[J')\n",
    "                continue\n",
    "            case \"n\":\n",
    "                print(\"saindo\")\n",
    "                exit()\n",
    "            case _:\n",
    "                print(\"opção invalida\")\n",
    "        delay(3.5)\n",
    "        #limpa o temnial pela sequência ANSI\n",
    "        print('\\033[H\\033[J')\n",
    "    except ValueError:\n",
    "        print(\"Digite um número inteiro\")"
   ]
  },
  {
   "cell_type": "markdown",
   "id": "0d0abcf9",
   "metadata": {},
   "source": [
    "22. Peça a distância percorrida e o combustível gasto, e exiba o consumo médio do\n",
    "veículo."
   ]
  },
  {
   "cell_type": "code",
   "execution_count": null,
   "id": "70d34759",
   "metadata": {},
   "outputs": [],
   "source": [
    "from time import sleep as delay\n",
    "while True:\n",
    "    try:\n",
    "        d = float(input(\"Me fala á discintancia pecorrida em km: \").replace(\",\",\".\").strip())\n",
    "        g = float(input(\"Me fala o combustivo gasto: \").replace(\",\",\".\").strip())\n",
    "        delay(3.5)\n",
    "        print('\\033[H\\033[J')\n",
    "        print(f\"o cosume médio é de {d/g}km/L\")\n",
    "        useri = input(\"Deseja ver com outro valor(s/n): \").strip().lower()\n",
    "        match useri:\n",
    "            case \"s\":\n",
    "                print('\\033[H\\033[J')\n",
    "                continue\n",
    "            case \"n\":\n",
    "                print(\"saindo\")\n",
    "                exit()\n",
    "            case _:\n",
    "                print(\"opção invalida\")\n",
    "        delay(3.5)\n",
    "        #limpa o temnial pela sequência ANSI\n",
    "        print('\\033[H\\033[J')\n",
    "    except ValueError:\n",
    "        print(\"Digite um número inteiro\")"
   ]
  },
  {
   "cell_type": "markdown",
   "id": "0019a675",
   "metadata": {},
   "source": [
    "23. Solicite um número e exiba o valor absoluto dele (sem considerar o sinal)."
   ]
  },
  {
   "cell_type": "code",
   "execution_count": null,
   "id": "2e63e454",
   "metadata": {},
   "outputs": [],
   "source": [
    "from time import sleep as delay\n",
    "while True:\n",
    "    try:\n",
    "        n = int(input(\"Me fala á discintancia pecorrida em km: \").replace(\",\",\".\").strip())\n",
    "        n = str(n)\n",
    "        n = n.replace(\"-\",\"\")\n",
    "        print(f\"O valor absoluto é {n}\")\n",
    "        delay(3.5)\n",
    "        print('\\033[H\\033[J')\n",
    "        useri = input(\"Deseja ver com outro valor(s/n): \").strip().lower()\n",
    "        match useri:\n",
    "            case \"s\":\n",
    "                print('\\033[H\\033[J')\n",
    "                continue\n",
    "            case \"n\":\n",
    "                print(\"saindo\")\n",
    "                exit()\n",
    "            case _:\n",
    "                print(\"opção invalida\")\n",
    "        delay(3.5)\n",
    "        #limpa o temnial pela sequência ANSI\n",
    "        print('\\033[H\\033[J')\n",
    "    except ValueError:\n",
    "        print(\"Digite um número inteiro\")"
   ]
  },
  {
   "cell_type": "markdown",
   "id": "fb8125af",
   "metadata": {},
   "source": [
    "30. Reescreva o código abaixo de forma que funcione corretamente.<br>\n",
    "x = input(int(\"Digite o numero da tabuda: \"))<br>\n",
    "for num in range(1, 11):<br>\n",
    "    print({x}+ X + {num} = , x * num)"
   ]
  },
  {
   "cell_type": "code",
   "execution_count": null,
   "id": "ca6a8819",
   "metadata": {},
   "outputs": [],
   "source": [
    "x = input(int(\"Digite o numero da tabuda: \"))\n",
    "for num in range(1, 11):\n",
    "    print(f\"{x}+ X + {num} = \", x * num)"
   ]
  }
 ],
 "metadata": {
  "language_info": {
   "name": "python"
  }
 },
 "nbformat": 4,
 "nbformat_minor": 5
}
